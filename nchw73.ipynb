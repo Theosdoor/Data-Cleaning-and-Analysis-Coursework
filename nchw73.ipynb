{
  "nbformat": 4,
  "nbformat_minor": 0,
  "metadata": {
    "colab": {
      "provenance": [],
      "mount_file_id": "1lK-fvagSTzb1FD9_BHExOC7X0-jvuXZt",
      "authorship_tag": "ABX9TyPnj+3jdsq8UhVwX9+zx4pO",
      "include_colab_link": true
    },
    "kernelspec": {
      "name": "python3",
      "display_name": "Python 3"
    },
    "language_info": {
      "name": "python"
    }
  },
  "cells": [
    {
      "cell_type": "markdown",
      "metadata": {
        "id": "view-in-github",
        "colab_type": "text"
      },
      "source": [
        "<a href=\"https://colab.research.google.com/github/Theosdoor/Data-Cleaning-and-Analysis-Coursework/blob/main/nchw73.ipynb\" target=\"_parent\"><img src=\"https://colab.research.google.com/assets/colab-badge.svg\" alt=\"Open In Colab\"/></a>"
      ]
    },
    {
      "cell_type": "code",
      "execution_count": 2,
      "metadata": {
        "id": "mFJDkUIMwq_h"
      },
      "outputs": [],
      "source": [
        "import pandas as pd\n",
        "import seaborn as sns\n",
        "import matplotlib as plt"
      ]
    },
    {
      "cell_type": "markdown",
      "source": [
        "**Problem 1 (40%)**\n",
        "\n"
      ],
      "metadata": {
        "id": "7WuO4aSJ6XYQ"
      }
    },
    {
      "cell_type": "code",
      "source": [
        "# read from excel file\n",
        "# TODO change file path before submitting. Maybe use github?? or just change str to filename\n",
        "data = pd.read_excel(\"/content/drive/MyDrive/UNI/Computer Science/COMP2271 Data Science/Data Cleaning and Analysis Coursework/amazon_laptop_2023.xlsx\", sheet_name = 0)\n",
        "metadata = pd.read_excel(\"/content/drive/MyDrive/UNI/Computer Science/COMP2271 Data Science/Data Cleaning and Analysis Coursework/amazon_laptop_2023.xlsx\", sheet_name = 1)"
      ],
      "metadata": {
        "id": "HcfjlnY8ySTA"
      },
      "execution_count": 3,
      "outputs": []
    },
    {
      "cell_type": "code",
      "source": [
        "print(data.columns.tolist())\n",
        "print(len(data.columns.tolist()))"
      ],
      "metadata": {
        "colab": {
          "base_uri": "https://localhost:8080/"
        },
        "id": "iWQXbdxvJ2i7",
        "outputId": "d50aa927-1793-4786-924a-d463cc9e195f"
      },
      "execution_count": 9,
      "outputs": [
        {
          "output_type": "stream",
          "name": "stdout",
          "text": [
            "['brand', 'model', 'screen_size', 'color', 'harddisk', 'cpu', 'ram', 'OS', 'special_features', 'graphics', 'graphics_coprocessor', 'cpu_speed', 'rating', 'price']\n",
            "14\n"
          ]
        }
      ]
    },
    {
      "cell_type": "code",
      "source": [
        "print(data.describe())\n",
        "\n",
        "# rating is the only numerical column at the moment"
      ],
      "metadata": {
        "colab": {
          "base_uri": "https://localhost:8080/"
        },
        "id": "OCq9YWWziRwK",
        "outputId": "179c53e3-1a74-492d-94a3-7ac2feec1805"
      },
      "execution_count": 8,
      "outputs": [
        {
          "output_type": "stream",
          "name": "stdout",
          "text": [
            "            rating\n",
            "count  2174.000000\n",
            "mean      4.086891\n",
            "std       1.165337\n",
            "min       1.000000\n",
            "25%       4.000000\n",
            "50%       4.500000\n",
            "75%       5.000000\n",
            "max       5.000000\n"
          ]
        }
      ]
    },
    {
      "cell_type": "code",
      "source": [
        "# Drop columns that have all missing data\n",
        "data.dropna(axis = 1, how = 'all')\n",
        "print(len(data.columns.tolist())) # no columns dropped"
      ],
      "metadata": {
        "colab": {
          "base_uri": "https://localhost:8080/"
        },
        "id": "_quz2VuEj0Ua",
        "outputId": "95b7ac34-e13e-42d1-f3f7-516fbab5c419"
      },
      "execution_count": 10,
      "outputs": [
        {
          "output_type": "stream",
          "name": "stdout",
          "text": [
            "14\n"
          ]
        }
      ]
    },
    {
      "cell_type": "code",
      "source": [],
      "metadata": {
        "id": "Do92gCa0kN0P"
      },
      "execution_count": null,
      "outputs": []
    },
    {
      "cell_type": "code",
      "source": [
        "#view unique values in each column\n",
        "for col in data.columns:\n",
        "  print(col,'\\n',data[col].unique(),'\\n')\n",
        "\n",
        "# We see within the columns inconsistent capitalisation, spelling errors, inconsistent units, inconsistent NA values and inconsistent naming"
      ],
      "metadata": {
        "colab": {
          "base_uri": "https://localhost:8080/"
        },
        "id": "KV-5YVmI5rp7",
        "outputId": "7e655e47-a9fe-4d67-fbe8-620ad966d289"
      },
      "execution_count": null,
      "outputs": [
        {
          "output_type": "stream",
          "name": "stdout",
          "text": [
            "brand \n",
            " ['hp' 'dell' 'msi' 'lenovo' 'acer' 'asus' 'lg' 'apple' 'microsoft'\n",
            " 'samsung' 'gigabyte' 'toughbook' 'alienware' 'xammue' 'shoxlab' 'razer'\n",
            " 'corsair' 'xpg' 'panasonic' 'lpt' 'vaio' 'latitude'\n",
            " 'carlisle foodservice products' 'gateway' 'quality refurbished computers'\n",
            " 'toposh' 'iview' 'maingear' 'computer upgrade king' 'elo' 'gizpro' 'jtd'\n",
            " 'mytrix' 'onn' 'goldengulf' 'luqeeg' 'tocosy' 'rokc' 'awow'\n",
            " 'best notebooks' 'ctl' 'mac' 'microtella' 'enovo'] \n",
            "\n",
            "model \n",
            " ['elitebook 840' 'inspiron 15 3530' 'vostro 3510 laptop' ... 'hps13'\n",
            " 'dell latitude 5300' 'hp prodesk 400 g3-sff'] \n",
            "\n",
            "screen_size (inches) \n",
            " ['14' '15.6' '13.5' '16' '11.6' '15' '13' '13.4' '13.3' '17.3' nan '17'\n",
            " '15.3' '13.6' '13.9' '16.1' '13.1' '15.66' '15.4' '12' '16.2' '10.1' '27'\n",
            " '14.1' '18' '14.5' '22' '12.5' '12.45' '14.4' '10.5' '11' '12.2' '10'\n",
            " '12.3' '12.4'] \n",
            "\n",
            "color \n",
            " ['silver' 'black' 'grey, gray, platinum silver' 'gary' 'gray' nan\n",
            " 'gray, platinum silver' 'carbon gray' 'titan gray' 'pure silver'\n",
            " 'platinum silver' 'eclipse gray' 'dark moss' 'natural silver'\n",
            " 'graphite black' 'graphite' 'obsidian black' 'aluminum' 'arctic grey'\n",
            " 'platinum' 'blue' 'grey' 'green' 'slate grey' 'silver/carbon fiber' 'sky'\n",
            " 'shadow grey' 'burgundy red' 'midnight' 'mecha gray' 'off black' 'gold'\n",
            " 'mineral grey' 'mist blue' 'punk pink' 'shale black' 'star black'\n",
            " 'carbon fiber' 'gray, silver' 'shadow black' 'white' 'fog blue'\n",
            " 'rgb backlit' 'cloud grey' 'phantom grey' 'dark side of the moon'\n",
            " 'basalt grey' 'matte black' 'mystic blue' 'indie black' 'stormy grey'\n",
            " 'mystic black' 'phantom grey with speckles' 'ink black' 'galaxy black'\n",
            " 'evo i7-1260p' 'titan gray dull' 'aluminum titan gray' 'dark shadow grey'\n",
            " 'royal blue' 'jade black' 'quiet blue' 'mica silver' 'phantom blue'\n",
            " 'dark side of the moon with high endurance clear coat and silky smooth finish'\n",
            " 'lunar white' 'black paint' 'anodized titan gray' 'lunar light'\n",
            " 'core black' 'platinum grey' 'epic silver' 'abyssal black' 'space gray'\n",
            " 'black with illuminated razer logo' 'silver blue' 'dynamic white'\n",
            " 'silver black' 'dark silver' 'obisidian black' 'abyss black'\n",
            " 'thunder black' 'titanium blue-black-dark blue-black' 'titanium blue'\n",
            " 'neptune blue' 'nocturne blue' 'storm grey' 'touchscreen' 'carbon black'\n",
            " 'silver/black' 'dark ash' 'cosmo gray' 'mineral silver' 'moonstone white'\n",
            " 'ash gray' 'ice blue' 'transparent silver' 'pale rose gold'\n",
            " 'thunder balck' 'mineral black' 'poseidon blue' 'tech black'\n",
            " 'nightfall black' 'dark ash silver' 'onyx grey' 'dark metallic moon'\n",
            " 'celestial blue' 'acronym' 'star gray' 'dark grey' 'abyss blue'\n",
            " 'platinum titan' 'sliver' 'modern gray' 'information not available'\n",
            " 'almond' 'blizzard white' 'dale gray' 'indigo blue' 'mineral gray'\n",
            " 'metallic gray' 'snow white' 'cover: red ; inner/keyboard: black'\n",
            " 'rose gold' 'snowflake white' 'mercury' 'silver, black' 'silver,black'\n",
            " 'ice blue + iron grey' 'arctic gray' 'slate gray' 'business black'\n",
            " 'graphite grey' 'platinum gray' 'light titan' 'cobalt' 'grey/black'\n",
            " 'coral red' 'black and silver' 'onyx black' 'pebble green' 'red'\n",
            " 'era gray' 'soft mint' 'fiesta red' 'dark teal' 'black,silver,grey'\n",
            " 'beige mousse' 'dune' 'midnight black' 'graphite gray'\n",
            " 'machined aluminum' 'iron grey' 'resolute red' 'gaia green'\n",
            " 'machined aluminum display back and base in silver' 'mercury grey'\n",
            " 'horizon blue' 'grey, platinum silver' 'pine grey' 'classic black'\n",
            " 'glossy black' 'gray, grey, platinum silver' 'apollo' 'urban silver'\n",
            " 'silver matte' 'chalkboard gray' 'eclipse grey' 'black/white'\n",
            " 'charcoal gray' 'electro punk' 'lunar gold' 'ai blue' 'safari gold'\n",
            " 'iron gray' 'sage'] \n",
            "\n",
            "harddisk \n",
            " ['256 GB' '2 TB' '1000 GB' '2000 GB' nan '512 GB' '128 GB' '4000 GB'\n",
            " '1 TB' '2048 GB' '16 GB' '1024 GB' '4 TB' '6000 GB' '3 TB' 512 '8000 GB'\n",
            " '1256 GB' 256 '320 GB' '160 GB' '32 GB' '64 GB' '120 GB' '500 GB' '8 TB'\n",
            " '64 MB' 64 '32 MB' '250 GB' '1.5 TB' '1512 GB' '128 MB' '65 GB' '8 GB'\n",
            " '1152 GB' '640 GB' '240 GB' '480 GB' '1.92 TB' '512 MB' '300 GB'] \n",
            "\n",
            "cpu \n",
            " ['core i5 6200u' 'core i7 family' 'core i7' 'core i5' 'amd ryzen 7'\n",
            " 'ryzen 5' 'unknown' 'amd r series' 'core i5 family' 'intel core i5'\n",
            " 'intel core i5 1145g7' 'intel core i7' 'intel core i5-1135g7' nan\n",
            " 'ryzen 5 4600h' 'ryzen 7' 'core i7-10700t' 'core i7 12700h' 'core i3'\n",
            " 'ryzen 7 5800h' 'intel mobile cpu' 'apple m1'\n",
            " '1.2ghz cortex a8 processor' 'amd ryzen 5 5500u' 'corei7-10750h'\n",
            " 'intel core i7-1165g7' 'intel core i7 1185g7' 'core i7 7500u'\n",
            " 'core i5-1035g1' 'amd ryzen 7 5800h' 'ryzen 7 2700u' 'ryzen 9' 'core i9'\n",
            " 'core i9 7960x' 'snapdragon' 'intel core i7 extreme' 'core i7-8650u'\n",
            " 'core i5 7200u' 'intel core i9' 'core i7 11800h' 'intel core duo'\n",
            " 'core i7 8750h' 'intel core i7 12800h' 'core i7 8550u' 'amd a series'\n",
            " 'amd ryzen 9 5900x' 'core i7-1065g7' 'intel core m-5y10 processor'\n",
            " 'a-series dual-core a4-3300m' 'arm 7100' 'ryzen 7 4800h' 'corei7-10875h'\n",
            " 'core i5-3320m' 'core i3-520m' 'mediatek mt8183' 'celeron'\n",
            " 'celeron n4000' 'core i5 5300u' 'celeron n' 'celeron n4020'\n",
            " 'core i7-620m' 'athlon' 'intel atom' 'others' 'mediatek_mt8127' 'pentium'\n",
            " 'celeron n3350' 'amd a4' 'core i7-12650h' 'core i7-10510u'\n",
            " 'ryzen 9 7900x' 'intel xeon' 'celeron n3450' 'a10-7700k' 'core i7-2620qm'\n",
            " 'atom z8350' 'intel celeron d' 'pentium other' 'intel core i3'\n",
            " 'core i5-4210u' 'a-series' 'pentium n5000' 'core i5-4200m'\n",
            " 'ryzen 3 3250u' 'core i3 family' 'core m3-8100y' 'core i5-2520m'\n",
            " 'intel core i5-4200u' 'celeron p4500' 'cortex' 'ryzen 3' 'core i3 1115g4'\n",
            " 'apple m2' 'core i7-13700k' 'ryzen 3 3200u' 'mediatek helio p60t'\n",
            " 'core i5 4310u' 'ryzen 3 3350u' 'core i5-5200u' 'core i7-3720qm'\n",
            " 'athlon silver 3050u' 'core i3-1005g1' 'core i3-10110u'\n",
            " 'intel core 2 quad' 'apple m2 max' 'core i7-4700mq' 'core i3 8130u'\n",
            " 'core i5-10210u' 'core i5 8400t' 'pentium n3540' 'core i5-3317u'\n",
            " 'core i3-1115g4e' 'ryzen 3 4300u' 'core i7 4600u' 'amd ryzen 3 2300x'\n",
            " 'core i5-1130g7' 'ryzen 7 4700u' 'ryzen 5 4500u'\n",
            " 'amd kabini a6-5200m quad core' 'ryzen 5 3500u' 'celeron n2840'\n",
            " 'core i5-655k' 'ryzen 5 5500u' 'core i5 4310m' 'ryzen 3 1300x'\n",
            " 'core i5 8250u' 'intel pentium 4' 'core i5-10310y'\n",
            " '1.2ghz cortex a13 processor' 'intel core i7-1355u' 'ryzen 5 2600x'\n",
            " 'intel core i7-5850hq' 'core 2 duo p8700' 'core m family' 'core 2 duo'\n",
            " 'core i7 6600u' 'celeron 3205u' 'core i7 6700hq' 'core_m'\n",
            " 'core i5 2.3 ghz'] \n",
            "\n",
            "ram \n",
            " ['16 GB' '64 GB' '32 GB' '8 GB' nan '12 GB' '4 GB' '24 GB' '40 GB' '5 GB'\n",
            " '1 GB' '48 GB' '2 GB' '31.99 GB' '6 GB' '20 GB' '128 GB' '64 MB' '96 GB'] \n",
            "\n",
            "OS \n",
            " ['windows 10 pro' 'windows 11 home' 'windows 10 home' 'windows 11 pro'\n",
            " 'windows 10' 'windows 11' nan 'mac os' 'windows 7' 'chrome os'\n",
            " 'windows pro' 'macos 10.12 sierra' 'windows' 'macos 12 monterey'\n",
            " 'windows 10 home 64' 'windows 10 pro (english/french/spanish)'\n",
            " 'windows 10 pro (64-bit)' 'win 10 pro / free upgrade to win 11'\n",
            " 'microsoft windows 10 professional (64bit)' 'no' 'windows 7 professional'\n",
            " 'windows 10 s' 'windows 10 s, windows 10' 'windows 8' 'windows 11 s'\n",
            " 'linux'\n",
            " 'windows 10 pro 64 bit multi-language support english/french/spanish'\n",
            " 'windows 10 pro 64 bit-multi-language support english/french/spanish.'\n",
            " 'windows 10 pro 64-bit' 'unknown' 'windows 11 home s'\n",
            " 'windows 10 64 bit-multi-language supports english/spanish/french'\n",
            " 'windows 8.1'\n",
            " 'win 10 pro 64 bit multi-language support english/french/spanish(renewed)'\n",
            " 'win 10 pro 64 bit multi-language support english/french/spanish'\n",
            " 'windows 11 pro, windows'\n",
            " 'windows 10 pro 64 bit-multi-language supports english/spanish/french'\n",
            " 'windows 11 home in s mode' 'windows 10 professional 64-bit' 'hp thinpro'\n",
            " 'windows 8 pro' 'macos 10.14 mojave' 'pc' 'win 11 multi-home'\n",
            " 'win 10 multi-language /free upgrade to win 11'\n",
            " 'windows 10 dg windows 7 pro 64' 'windows 7 pro + 10 pro'\n",
            " 'mac os x 10.0 cheetah' 'windows 7 home premium'] \n",
            "\n",
            "special_features \n",
            " ['anti glare coating' nan 'wifi & bluetooth' 'anti-glare,thin bezel'\n",
            " 'anti-glare screen' 'backlit keyboard' 'anti-glare' 'fingerprint reader'\n",
            " 'hd audio, backlit keyboard, anti glare coating' 'anti glare'\n",
            " 'information not available'\n",
            " 'hd audio, backlit keyboard, anti glare coating, numeric keypad'\n",
            " 'fingerprint reader, hd audio, backlit keyboard, numeric keypad'\n",
            " 'fingerprint reader, backlit keyboard, memory card slot'\n",
            " 'fingerprint reader, hd audio, backlit keyboard, memory card slot'\n",
            " 'fingerprint' 'fingerprint reader, hd audio, backlit keyboard' 'stylus'\n",
            " 'fingerprint reader, hd audio, backlit keyboard, anti glare coating, memory card slot'\n",
            " 'backlit keyboard, support stylus' 'security slot'\n",
            " 'anti-glare,backlit keyboard' 'backlit kb,bezel,fingerprint'\n",
            " 'full hd anti-glare'\n",
            " 'hd audio, fingerprint reader, backlit keyboard, support stylus'\n",
            " 'thin bezel'\n",
            " 'fingerprint reader, hd audio, backlit keyboard, support stylus, memory card slot'\n",
            " 'spill-resistant'\n",
            " 'fingerprint reader, high definition audio, backlit keyboard, anti glare coating'\n",
            " 'backlit kb,fingerprint' 'anti-glare,backlit kyb,fingerprint reader'\n",
            " 'backlit kb' 'hd audio' 'backlit keyboard,fingerprint'\n",
            " 'backlit keyboard,fingerprint reader' 'nanoedge bezel'\n",
            " 'backlit keyboard,fingerprint reader,full hd anti-glare' 'microphone'\n",
            " 'support stylus' 'backlit keyboard, memory card slot'\n",
            " 'fingerprint reader, backlit keyboard'\n",
            " 'fingerprint reader, hd audio, backlit keyboard, memory card slot, numeric keypad'\n",
            " 'hd audio, memory card slot, numeric keypad'\n",
            " 'hd audio, backlit keyboard, numeric keypad'\n",
            " 'fingerprint reader, hd audio, spill resistant, high definition audio, anti glare coating'\n",
            " 'hd audio, backlit keyboard'\n",
            " 'fingerprint reader, hd audio, anti glare coating, memory card slot, numeric keypad'\n",
            " 'anti-glare,fingerprint reader'\n",
            " 'fingerprint reader, backlit keyboard, anti glare coating, memory card slot, numeric keypad'\n",
            " 'trackpoint' 'lightweight' 'dolby' 'backlit keyboard,numeric keypad'\n",
            " 'bezel,fingerprint reader'\n",
            " 'hd audio, backlit keyboard, memory card slot, numeric keypad'\n",
            " 'narrow bezel' 'pen'\n",
            " 'fingerprint reader, trackpoint, backlit keyboard, anti glare coating, numeric keypad'\n",
            " 'multi-touch gesture' 'backlit keyboard,pen'\n",
            " 'infinityedge, anti-glare screen' 'nanoedge'\n",
            " 'high definition audio, backlit keyboard, anti glare coating, memory card slot'\n",
            " 'fingerprint reader, trackpoint, backlit keyboard, anti glare coating, memory card slot'\n",
            " 'anti- glare,backlit keyboard.tikbot'\n",
            " 'fingerprint reader, high definition audio, backlit keyboard, anti glare coating, memory card slot'\n",
            " 'fingerprint reader, backlit keyboard, support stylus, memory card slot'\n",
            " 'speakers' 'anti-glare,backlit kb,fingerprint reader'\n",
            " 'anti-glare,nanoedge bezel' 'alexa'\n",
            " 'corning gorilla glass 6, anti-reflection, anti-smudge'\n",
            " 'hd audio, backlit keyboard, anti glare coating, memory card slot, numeric keypad'\n",
            " 'fingerprint reader, high definition audio, backlit keyboard, memory card slot'\n",
            " 'anti-glare,fingerprint' 'premium business-class notebook'\n",
            " 'anti-glare,fingerprint reader,stereo speakers' 'ultra-slim bezel'\n",
            " 'hd audio, backlit keyboard, memory card slot'\n",
            " 'chiclet,fingerprint reader' 'anti-glare screen, miracast technology'\n",
            " 'anti-glare screen, water resistant'\n",
            " 'anti-reflection, anti-smudge, anti-glare screen'\n",
            " 'fingerprint reader, hd audio, backlit keyboard, anti glare coating'\n",
            " 'backlit kyb' 'anti glare,thin bezel'\n",
            " 'anti-smudge, corning gorilla glass' 'anti glare,pen' 'anti gla'\n",
            " 'nano-edge bezel,stylus pen' 'backlit kb,fingerprint reader'\n",
            " 'high definition audio, backlit keyboard, anti glare coating, numeric keypad'\n",
            " 'hd audio, backlit keyboard, anti glare coating, memory card slot'\n",
            " 'backlight keyboard' 'backlit kb,fingerprint,pen'\n",
            " 'fingerprint reader, backlit keyboard, anti glare coating, numeric keypad'\n",
            " 'killer wifi 6e ax1675 (2x2 ), steel series per-key rgb with anti-ghost key (84 key)'\n",
            " 'hd audio, anti-ghost key, backlit keyboard, memory card slot, numeric keypad'\n",
            " 'fingerprint reader, spill resistant, high definition audio, backlit keyboard, anti glare coating'\n",
            " 'anti-glare,backlit keyboard/windows' 'stereo speakers' 'backlit'\n",
            " 'spill resistant' 'hd' 'memory card slot' 'anti-glare,ultra-narrow bezel'\n",
            " 'micro-edge bezel'\n",
            " 'fingerprint reader, hd audio, backlit keyboard, anti glare coating, numeric keypad'\n",
            " 'anti glare coating,backlit keyboard, fingerprint reader'\n",
            " 'anti-reflection, anti-smudge'\n",
            " 'fingerprint reader, high definition audio, anti glare coating'\n",
            " 'fingerprint reader, hd audio, trackpoint, backlit keyboard, anti glare coating'\n",
            " 'stylus pen' 'fingerprint,pen' 'anti-glare,narrow bezel'\n",
            " 'corning gorilla glass 7, miracast technology' 'rgb backlit keyboard'\n",
            " 'anti-glare,backlit keyboard,fingerprint reader'\n",
            " 'anti-reflection, anti-smudge, corning gorilla glass, anti-glare screen'\n",
            " 'high definition audio, backlit keyboard, anti glare coating'\n",
            " 'anti-glare,backlit kb' 'fingerprint reader, backlit keyboard, 32 gb ram'\n",
            " 'light and compact design lets you stream, work, create, and play on a fast,'\n",
            " 'anti-glare,hd,ultra-narrow bezel' 'bezels,dolby,stereo speakers'\n",
            " 'alcohol-free' 'thin-bezel' 'numeric keypad'\n",
            " 'anti-glare,narrow bezel,pen'\n",
            " 'chiclet keyboard, 1.5mm key-travel , camera'\n",
            " 'anti-glare,stereo speakers' 'high quality' 'dolby,narrow bezel'\n",
            " 'memory card slot, numeric keypad' 'narrow'\n",
            " 'speakers: stereo, keyboard: chiclet,' 'hd audio, memory card slot'\n",
            " 'water proof' 'amazon alexa' 'portable' 'anti-glare,hd audio'\n",
            " 'waterproof, ruggedized, military grade'\n",
            " 'backlit keyboard,fingerprint,nanoedge bezel' 'fingerprint reader,keypad'\n",
            " 'built for entertainment, multitasking & privacy'\n",
            " 'anti-glare,backlit keyboard,narrow bezels' 'keyboard'\n",
            " 'intel uhd graphics with shared graphics memory, long life battery'\n",
            " 'fingerprint sensor,nanoedge bezel' 'water repellent' 'active stylus'\n",
            " 'hd audio, anti glare coating, memory card slot, numeric keypad'\n",
            " 'full,nanoedge bezel' 'touchscreen laptop, windows laptop, i5 laptop'\n",
            " 'dolby,full hd anti-glare' 'fingerprint sensor' 'fhd touch screen'\n",
            " 'dishwasher safe' 'anti glare coating, memory card slot, numeric keypad'\n",
            " 'backlit keyboard,spill-resistant' 'stereo,stereo/'\n",
            " 'spill-resistant,stereo' 'space saving'\n",
            " 'hd audio, anti glare coating, numeric keypad'\n",
            " 'hd audio, anti glare coating, memory card slot' 'anti-glare,dolby'\n",
            " 'backlit keyboard,fingerprint reader,stylus pen'\n",
            " 'fingerprint power button' '144hz refresh rate, backlit keyboard'\n",
            " 'multi touch, intel 9560 jefferson peak (2x2 802.11 ac), white backlight 84 key'\n",
            " 'touchscreen'\n",
            " 'fingerprint reader, hd audio, backlit keyboard, memory card slot, anti glare coating'\n",
            " 'anti glare,fingerprint' 'anti-glare,anti-glare screen'\n",
            " 'bezel,fingerprint'\n",
            " 'high definition audio, anti glare coating, memory card slot'\n",
            " 'fingerprint reader,pen' 'stereo'\n",
            " 'fingerprint reader, high definition audio, backlit keyboard' 'ergonomic'\n",
            " 'backlit keyboard,stylus'\n",
            " 'fingerprint reader, hd audio, anti glare coating, memory card slot'\n",
            " 'hd audio, fingerprint reader, backlit keyboard, anti glare coating, memory card slot'\n",
            " 'corning gorilla glass' 'backlit keyboard,stylus pen'] \n",
            "\n",
            "graphics \n",
            " ['integrated' 'iris xe graphics' 'radeon graphics' 'nvidia geforce mx250'\n",
            " 'nvidia geforce rtx a500' 'dedicated' 'integrated, dedicated' nan\n",
            " 'uhd graphics' 'rtx t600' 't550' 'rtx 3060' 'nvidia geforce mx350'\n",
            " 'nvidia geforce rtx 3050' 'nvidia geforce rtx 3050 ti'\n",
            " 'nvidia geforce rtx 2050' 'iris x graphics' 'rtx a3000' 'intel xe'\n",
            " 'iris xe' 'nvidia quadro t550' 'nvidia geforce rtx 3060' 'quadro t500'\n",
            " 'nvidia geforce rtx 4050' 'rtx a1000' 'intel iris xáµ‰'\n",
            " 'nvidia geforce rtx 4060' 'radeon 680m graphics' 'rtx 4070' 'rtx 3050 ti'\n",
            " 'nvidia geforce rtx 2070 super' 'gt2 graphics'\n",
            " 'geforce rtx 3070 ti,iris xe graphics' 'nvidia rtx3070'\n",
            " 'amd radeon rx 540' 'rtx2050' 'rtx a500' 'nvidia quadro t2000'\n",
            " 'shared, integrated' 'rtx 3070 ti' 'nvidia geforce rtx 3070 ti'\n",
            " 't500,iris xe graphics' 'geforce rtx 3080' 'nvidia geforce rtx2060'\n",
            " 'rtx a2000' 'nvidia geforce mx550' 'intel arc a370m' 'nvidia t1200'\n",
            " 'nvidia rtx a3000' 'nvidia quadro rtx 3000' 't1200' 'nvidia rtx a2000'\n",
            " 'nvidia geforce rtx 2070' 'amd radeon rx 7600' 'geforce rtx 3070'\n",
            " 'qn20-m1-r' 'rtx 4060' 'geforce rtx 3050' 'nvidia rtx a1000'\n",
            " 'nvidia geforce rtx 3070' 'nvidia geforce gtx 1650 ti' 'rtx 2070 super'\n",
            " 'uhd graphics 610' 'hd graphics, integrated' 'shared' 'geforce rtx 4050'\n",
            " 't500,hd graphics, dedicated' 'nvidia geforce rtx 4070'\n",
            " 'geforce gtx 1650' 'radeon 680m' 'nvidia rtx 2000 ada'\n",
            " 'geforce rtx 3050 ti' 'nvidia geforce rtx 3080'\n",
            " 'integrated intel iris xe plus gpu' 'rtx 3070ti' 'geforce gtx 1650 ti'\n",
            " 'nvidia geforce rtx 4070, dedicated' 'rtx 3080 ti'\n",
            " 'nvidia geforce rtx 4080' 'rtx 4080' 'rtx 2060' 'nvidia rtx 4000 ada'\n",
            " 'nvidia rtx a4000' 'nvidia geforce rtx 4090' 'uhd graphics 600'\n",
            " 'rtx 3070' 'nvidia rtx a5500' 'rtx a2000,uhd graphics'\n",
            " 'nvidia geforce rtx 3080 ti' 'nvidia rtx a4500' 'geforce rtx 3080 ti'\n",
            " 'nvidiaâ® geforce rtxâ„¢ 4060'\n",
            " 'quadro rtx 4000 with max-q design, 8gb gddr6' 'rtx 3500 ada'\n",
            " 'intel uhd graphics' 'nvidia rtx 2060' 'rtx a5000,uhd graphics'\n",
            " 'intel hd graphics 5000, integrated' 'adreno 618' 'amd radeon graphics'\n",
            " 'amd integrated graphics' 'amd radeon'\n",
            " 'integrated amd radeonâ„¢ graphics' 'geforce rtx 2050'\n",
            " 'intel iris, integrated' 'intel hd graphics 620, integrated' 'rtx 3050'\n",
            " 'nvidia geforce mx450' 'rtx 4050' 'nvidia geforce gtx 1650 4gb'] \n",
            "\n",
            "graphics_coprocessor \n",
            " [nan 'intel iris xe graphics' 'intel integrated graphics'\n",
            " 'amd radeon graphics' 'intel' 'intel uhd graphics'\n",
            " 'integrated iris xe graphics' 'nvidia geforce rtx 3050'\n",
            " 'amd integrated graphics' 'nvidia geforce rtx 3050 ti 4gb gddr6'\n",
            " 'intel uhd graphics 620' 'nvidia geforce rtx 3050 ti'\n",
            " 'xps9300-7909slv-pus' 'amd radeon 680m' 'intel hd'\n",
            " 'nvidia geforce rtx 4050' 'amd radeon pro 560' 'nvidia geforce rtx 3060'\n",
            " 'nvidia geforce gtx 1050 ti' 'nvidia â® geforce rtxâ„¢ 4050' 'intel iris'\n",
            " 'intel hd graphics 520' 'intel hd graphics'\n",
            " 'intel iris xe graphics eligible integrated' 'nvidia quadro t1000'\n",
            " 'nvidia geforce gtx 1660' 'intel hd graphics 620'\n",
            " 'nvidia â® geforce rtxâ„¢ 2060' 'quadro p1000' 'nvidia geforce gtx 1050'\n",
            " 'intel hd graphics 6000' 'nvidia rtx a1000' 'nvidia geforce gtx 1060'\n",
            " 'uhd graphics' 'amd radeon rx vega 11' 'intel celeron'\n",
            " 'nvidia geforce gtx 1650' 'amd radeon rtx 3070' 'intel iris plus'\n",
            " 'nvidia geforce rtx 4070' 'intel hd graphics 400'\n",
            " 'nvidia geforce rtx 4060' 'amd radeon rx 540' 'intel uhd graphics 630'\n",
            " 'radeon pro wx vega m gl' 'amd radeon 680m graphics' 'integrated'\n",
            " 'apple integrated graphics' 'nvidia geforce rtx 3070'\n",
            " 'nvidia geforce rtx 2080 8gb gddr6' 'intel hd graphics 615'\n",
            " 'nvidia intel geforce rtx 3070 ti iris xe graphics'\n",
            " 'nvidia geforce 940mx' 'nvidia geforce gtx 1070 oc with 8gb gddr5'\n",
            " 'intel uhd 620 graphics' 'nvidia geforce gtx 1660ti'\n",
            " 'nvidia geforce mx130' 'nvidia rtx a500' 'integrated_graphics'\n",
            " 'nvidia geforce rtx 3080 ti' 'nvidia rtx a3000'\n",
            " 'nvidia intel t500 iris xe graphics' 'nvidia geforce mx230'\n",
            " 'nvidia geforce mx250' 'nvidia geforce mx150' 'nvidia geforce rtx 2070'\n",
            " 'amd radeon rx 6800m' 'nvidia geforce rtx' 'nvidia quadro t2000'\n",
            " 'nvidia geforce rtx 3070 ti' 'nvidia rtx a3000 16gb gddr6'\n",
            " 'intel graphics processor' 'nvidia geforce rtx 3070 ti 8gb gddr6'\n",
            " 'intelâ® iris plus graphics' 'intel hd graphics 630' 'nvidia'\n",
            " 'nvidia quadro t1200' 'nvidia geforce gtx 1650 ti' 'nvidia t550'\n",
            " 'nvidia geforce 3050' 'm1 pro' 'amd radeon r5' 'nvidia rtx 3050ti'\n",
            " 'nvidia quadro p1000' 'nvidia geforce rtx 2060'\n",
            " 'nvidia rtx a4000 8gb gddr6' 'nvidia geforce rtx 2070 max-q'\n",
            " 'mobile intel 4 series express' 'ati mobility radeon 7500'\n",
            " 'intel hd graphics 3000' 'intel hd graphics 610' 'intel uhd graphics 600'\n",
            " 'integrated intelâ® uhd 600 graphics' 'intel hd 5500' 'mediatek'\n",
            " 'mediatek integrated' 'intel uhd graphics 605' 'intel hd graphics 500'\n",
            " 'amd radeon' 'nvidia geforce gt 720m' 'embedded' 'powervr gx6250'\n",
            " 'intel hd graphics 4400' 'nvidia geforce rtx 3080'\n",
            " 'nvidia geforce rtx 3050 ti 6gb' 'nvidia rtx a3000 12gb gddr6'\n",
            " 'nvidia geforce rtx 4080' 'nvidia geforce gtx 1060 oc'\n",
            " 'nvidia geforce rtx a2000' 'nvidia rtx3050' 'nvidia geforce gtx 1070'\n",
            " 'nvidia geforce' 'geforce rtx 2060' 'nvidia geforcer a3000'\n",
            " 'nvidia geforce rtx 3050 ti max-q graphics' 'nvidia rtx 2070'\n",
            " 'nvidia geforce rtx 3080 laptop gpu' 'intel upc' 'nvidia rtx a2000'\n",
            " 'intel uhd graphics premium' 'nvidia rtx 5000 16gb gddr6'\n",
            " 'nvidia rtx a2000 w/4gb' 'nvidia quadro p520'\n",
            " 'nvidia quadro 3050 6gb gddr6' 'nvidia rtx a4500 16gb gddr6 (4dp)'\n",
            " 'rtx 3080' 'nvidia rtx 3000 6gb gddr6' 'nvidia rtx a4500'\n",
            " 'uhd graphics 600' 'integrated graphics' 'amd radeon vega 3' 'gx6250'\n",
            " 'amd athlon silver' 'intel hd integrated graphics'\n",
            " 'intel hd grpahics 500' 'intel hd graphics 5000' 'intergrated'\n",
            " 'mediatek integrated graphics' 'mali-g72 mp3' 'amd athlon'\n",
            " 'amd radeon r4' 'intel hd graphics 4000' 'nvidia geforce mx450'\n",
            " 'amd radeon hd 8330' 'intel hd graphics 600'\n",
            " 'integrated arm mali-g52 2ee mc2 gpu' 'intel hd graphics 5500'\n",
            " 'nvidia rtx a3000 6gb gddr6' 'nvidia geforce trx 3070'\n",
            " 'nvidia intel rtx a2000 uhd graphics' 'nvidia quadro t500 2gb'\n",
            " 'nvidia geforce rtx a4500' 'nvidia rtx 2080 super'\n",
            " 'nvidia geforce rtx 2080 super' 'nvidia geforce rtx 4090'\n",
            " 'nvidia rtx a5500 16gb gddr6' 'nvidia â® rtxâ„¢ a4500, 16 gb gddr6'\n",
            " 'nvidia geforce rtx 2080' 'nvidia â®' 'nvidia geforce rtx 2080 max-q'\n",
            " 'nvidia quadro rtx 4000 with max-q design 8gb gddr6'\n",
            " 'nvidia rtx 3500 ada' 'amd radeon r7' 'integreted'\n",
            " 'intel hd graphics;nvidia optimus graphics' 'intel graphics integrated'\n",
            " 'amd' 'inter core i7-8650u' 'nvidia quadro rtx 3000'\n",
            " 'nvidia geforce rtx 4000' 'nvidia rtx a3000, 12 gb ddr6'\n",
            " 'nvidia intel rtx a5000 uhd graphics' 'intel hd 520 graphics'\n",
            " 'intel uhd graphics 520' 'nvidia quadro k1100m'\n",
            " 'integrated amd radeon graphics' 'integrated card' 'amd radeon 610m'\n",
            " 'amd radeon 7 graphics' 'amd radeon graphics 5500' 'amd radeon hd 8790m'\n",
            " 'intel hd graphics 4400 integrated' 'amd radeon rx vega 8'\n",
            " 'hd 620 graphics' 'intel 620u' 'amd radeon graphics 5'\n",
            " '2gb nvidia geforce mx230 graphics' 'amd radeon vega 8'\n",
            " 'nvidia quadro rtx 5000' 'integrated amd radeonâ„¢ graphics'\n",
            " 'intel hd graphics 5300' 'intel iris x' 'amd radeon rx vega 10'\n",
            " 'amd radeon vega 9' 'intel iris plus graphics 640'\n",
            " 'nvidia geforce rtx 2050' 'integrated intel graphic'\n",
            " 'intel hd graphics 515' 'integrated intel graphics'\n",
            " 'hd integrated graphics' 'integrated intel hd graphics'\n",
            " 'intel hd graphics 530' 'nvidia t600' 'dedicated' 'intel hd 4000'\n",
            " 'nvidia geforce gtx 965m'] \n",
            "\n",
            "cpu_speed \n",
            " [nan '3.6 GHz' '2.1 GHz' '4.4 GHz' '3 GHz' '1.7 GHz' '3.5 GHz' 1.9\n",
            " '3.1 GHz' '3.7 GHz' '2133 MHz' '4.2 GHz' '2.6 GHz' '2.2, 3.9 GHz'\n",
            " '1.8 GHz' '3.4 GHz' '4.7 GHz' 3.4 '1.9 GHz' '4.6 GHz' '2.2 GHz' '4.5 GHz'\n",
            " 4.7 '1.6 GHz' '3.2 GHz' '3200 Hz' '2.4 GHz' '2.5 GHz' 3.3 '5.2 GHz'\n",
            " '5 GHz' '3.49 GHz' '2.9 GHz' '3.8 GHz' '2.8 GHz' '4.8 GHz' '0.9 GHz'\n",
            " '5.6 GHz' '2.3 GHz' '2 GHz' '5.1 GHz' '1.3 GHz' '2.7 GHz' '2 Hz'\n",
            " '1.1 GHz' '2.66 GHz' '1 GHz' '1.2 GHz' '9120 GHz' '3.9 GHz' '1.4 GHz' 2.6\n",
            " '4 GHz' '4.1 GHz' '2.5, 3.1 GHz' 2.4 '4.3 GHz' 1.8 '3.3 GHz' '2.53 GHz'\n",
            " '1.5 GHz'] \n",
            "\n",
            "rating \n",
            " [4.  4.2 nan 3.  5.  3.6 4.1 3.9 4.6 3.8 2.5 1.  3.5 4.4 4.3 4.5 4.8 4.7\n",
            " 3.4 2.8 3.7 2.9 3.3 2.3 3.1 2.6 2.  3.2 2.7 4.9 2.2 2.1 1.7] \n",
            "\n",
            "price ($) \n",
            " ['1000.00 ' '1000.99 ' '1001.11 ' ... '999.95 ' '999.99 ' nan] \n",
            "\n"
          ]
        }
      ]
    },
    {
      "cell_type": "code",
      "source": [
        "# making all entries lower case\n",
        "str_columns = ['brand','model','color','cpu', 'OS', 'special_features', 'graphics', 'graphics_coprocessor']\n",
        "# TODO automate to detect str_columns?\n",
        "\n",
        "for col in str_columns:\n",
        "  data[col] = data[col].str.lower()"
      ],
      "metadata": {
        "id": "DM-ZsQ_sCbp0"
      },
      "execution_count": null,
      "outputs": []
    },
    {
      "cell_type": "code",
      "source": [
        "# make numeric columns into numbers and make units consistent\n",
        "num_columns = ['screen_size', 'harddisk', 'ram', 'cpu_speed', 'rating', 'price']\n",
        "\n",
        "data['price'] = data['price'].str.replace(',','')\n",
        "data['price'] = data['price'].str.replace('$','')\n",
        "\n",
        "data['screen_size'] = data['screen_size'].str.replace(' Inches', '')\n",
        "\n",
        "data.rename(columns = {'price': \"price ($)\", \"screen_size\" : \"screen_size (inches)\"}, inplace = True)\n",
        "\n",
        "data['screen_size (inches)']"
      ],
      "metadata": {
        "colab": {
          "base_uri": "https://localhost:8080/"
        },
        "id": "v6mIc117KduW",
        "outputId": "57484141-6fbf-4d70-e5ff-0a10d25926ed"
      },
      "execution_count": null,
      "outputs": [
        {
          "output_type": "stream",
          "name": "stderr",
          "text": [
            "<ipython-input-6-42d7e2425d6e>:5: FutureWarning: The default value of regex will change from True to False in a future version. In addition, single character regular expressions will *not* be treated as literal strings when regex=True.\n",
            "  data['price'] = data['price'].str.replace('$','')\n"
          ]
        },
        {
          "output_type": "execute_result",
          "data": {
            "text/plain": [
              "0         14\n",
              "1       15.6\n",
              "2       15.6\n",
              "3         14\n",
              "4         14\n",
              "        ... \n",
              "4441      14\n",
              "4442      15\n",
              "4443    12.4\n",
              "4444    13.3\n",
              "4445     NaN\n",
              "Name: screen_size (inches), Length: 4446, dtype: object"
            ]
          },
          "metadata": {},
          "execution_count": 6
        }
      ]
    },
    {
      "cell_type": "code",
      "source": [
        "# Duplicated data\n",
        "\n",
        "# How many rows are duplicates?\n",
        "n_dupes = 0\n",
        "for b in data.duplicated():\n",
        "  if b == True:\n",
        "    n_dupes += 1\n",
        "\n",
        "print(n_dupes, 'duplicate rows.\\n')\n",
        "#drop rows\n",
        "data.drop_duplicates(inplace=True)"
      ],
      "metadata": {
        "colab": {
          "base_uri": "https://localhost:8080/"
        },
        "id": "g_nBfr9J-Ud_",
        "outputId": "5807fb6a-b0d9-48e7-b1a5-490ab184aa4a"
      },
      "execution_count": null,
      "outputs": [
        {
          "output_type": "stream",
          "name": "stdout",
          "text": [
            "1818 duplicate rows.\n",
            "\n"
          ]
        }
      ]
    },
    {
      "cell_type": "code",
      "source": [],
      "metadata": {
        "id": "pd71tVtGKMWF"
      },
      "execution_count": null,
      "outputs": []
    }
  ]
}