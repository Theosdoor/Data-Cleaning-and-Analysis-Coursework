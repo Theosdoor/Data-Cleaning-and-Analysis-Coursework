{
  "nbformat": 4,
  "nbformat_minor": 0,
  "metadata": {
    "colab": {
      "provenance": [],
      "mount_file_id": "1lK-fvagSTzb1FD9_BHExOC7X0-jvuXZt",
      "authorship_tag": "ABX9TyOQpUgH+va2RLFGXkgP4bjR",
      "include_colab_link": true
    },
    "kernelspec": {
      "name": "python3",
      "display_name": "Python 3"
    },
    "language_info": {
      "name": "python"
    }
  },
  "cells": [
    {
      "cell_type": "markdown",
      "metadata": {
        "id": "view-in-github",
        "colab_type": "text"
      },
      "source": [
        "<a href=\"https://colab.research.google.com/github/Theosdoor/Data-Cleaning-and-Analysis-Coursework/blob/main/nchw73.ipynb\" target=\"_parent\"><img src=\"https://colab.research.google.com/assets/colab-badge.svg\" alt=\"Open In Colab\"/></a>"
      ]
    },
    {
      "cell_type": "code",
      "execution_count": 42,
      "metadata": {
        "id": "mFJDkUIMwq_h"
      },
      "outputs": [],
      "source": [
        "import pandas as pd\n",
        "import seaborn as sns\n",
        "import matplotlib as plt"
      ]
    },
    {
      "cell_type": "markdown",
      "source": [
        "**Problem 1 (40%)**\n",
        "\n"
      ],
      "metadata": {
        "id": "7WuO4aSJ6XYQ"
      }
    },
    {
      "cell_type": "code",
      "source": [
        "# read from excel file\n",
        "# TODO change file path before submitting. Maybe use github?? or just change str to filename\n",
        "data = pd.read_excel(\"/content/drive/MyDrive/UNI/Computer Science/COMP2271 Data Science/Data Cleaning and Analysis Coursework/amazon_laptop_2023.xlsx\", sheet_name = 0)\n",
        "metadata = pd.read_excel(\"/content/drive/MyDrive/UNI/Computer Science/COMP2271 Data Science/Data Cleaning and Analysis Coursework/amazon_laptop_2023.xlsx\", sheet_name = 1)"
      ],
      "metadata": {
        "id": "HcfjlnY8ySTA"
      },
      "execution_count": 43,
      "outputs": []
    },
    {
      "cell_type": "code",
      "source": [
        "print(data.columns.tolist())\n",
        "print(len(data.columns.tolist()))"
      ],
      "metadata": {
        "colab": {
          "base_uri": "https://localhost:8080/"
        },
        "id": "iWQXbdxvJ2i7",
        "outputId": "7a62df18-9a89-4c73-94e4-af3ca9ab99c5"
      },
      "execution_count": 44,
      "outputs": [
        {
          "output_type": "stream",
          "name": "stdout",
          "text": [
            "['brand', 'model', 'screen_size', 'color', 'harddisk', 'cpu', 'ram', 'OS', 'special_features', 'graphics', 'graphics_coprocessor', 'cpu_speed', 'rating', 'price']\n",
            "14\n"
          ]
        }
      ]
    },
    {
      "cell_type": "code",
      "source": [
        "print(data.describe())\n",
        "\n",
        "# rating is the only numerical column at the moment"
      ],
      "metadata": {
        "colab": {
          "base_uri": "https://localhost:8080/"
        },
        "id": "OCq9YWWziRwK",
        "outputId": "9ba6e43a-c237-4446-a587-be3666727d95"
      },
      "execution_count": 45,
      "outputs": [
        {
          "output_type": "stream",
          "name": "stdout",
          "text": [
            "            rating\n",
            "count  2174.000000\n",
            "mean      4.086891\n",
            "std       1.165337\n",
            "min       1.000000\n",
            "25%       4.000000\n",
            "50%       4.500000\n",
            "75%       5.000000\n",
            "max       5.000000\n"
          ]
        }
      ]
    },
    {
      "cell_type": "code",
      "source": [
        "# Drop columns that have all missing data\n",
        "data.dropna(axis = 1, how = 'all')\n",
        "print(len(data.columns.tolist())) # no columns dropped"
      ],
      "metadata": {
        "colab": {
          "base_uri": "https://localhost:8080/"
        },
        "id": "_quz2VuEj0Ua",
        "outputId": "93f7da2a-37ff-4dd3-ab41-90551b5a2ab6"
      },
      "execution_count": 46,
      "outputs": [
        {
          "output_type": "stream",
          "name": "stdout",
          "text": [
            "14\n"
          ]
        }
      ]
    },
    {
      "cell_type": "code",
      "source": [
        "print(data.dtypes)\n",
        "# brand, model, color, cpu, OS, special_features, graphics, graphics_coprocessor should be strings\n",
        "# screen_size, harddisk, ram, cpu_speed, rating, price should be floats"
      ],
      "metadata": {
        "colab": {
          "base_uri": "https://localhost:8080/"
        },
        "id": "Do92gCa0kN0P",
        "outputId": "9e0d20de-3ab2-49e1-e33d-1c3b67952de8"
      },
      "execution_count": 47,
      "outputs": [
        {
          "output_type": "stream",
          "name": "stdout",
          "text": [
            "brand                    object\n",
            "model                    object\n",
            "screen_size              object\n",
            "color                    object\n",
            "harddisk                 object\n",
            "cpu                      object\n",
            "ram                      object\n",
            "OS                       object\n",
            "special_features         object\n",
            "graphics                 object\n",
            "graphics_coprocessor     object\n",
            "cpu_speed                object\n",
            "rating                  float64\n",
            "price                    object\n",
            "dtype: object\n"
          ]
        }
      ]
    },
    {
      "cell_type": "code",
      "source": [
        "# what columns can we get rid of that aren't related to research question?\n",
        "unused_features = ['color']\n",
        "data.drop(unused_features, axis = 1, inplace= True)"
      ],
      "metadata": {
        "id": "iN31YvKSleAX"
      },
      "execution_count": 48,
      "outputs": []
    },
    {
      "cell_type": "code",
      "source": [
        "# outliers"
      ],
      "metadata": {
        "id": "sI1hDM3TyplI"
      },
      "execution_count": null,
      "outputs": []
    },
    {
      "cell_type": "code",
      "source": [
        "# view unique values in each column\n",
        "for col in data.columns:\n",
        "  print(col,'\\n',data[col].unique(),'\\n')\n",
        "\n",
        "# We see within the columns inconsistent capitalisation, spelling errors, inconsistent units, inconsistent NA values and inconsistent naming"
      ],
      "metadata": {
        "colab": {
          "base_uri": "https://localhost:8080/"
        },
        "id": "KV-5YVmI5rp7",
        "outputId": "9ee095df-d5f7-4bb5-b603-64f3c092b35c"
      },
      "execution_count": 49,
      "outputs": [
        {
          "output_type": "stream",
          "name": "stdout",
          "text": [
            "brand \n",
            " ['HP' 'Dell' 'MSI' 'Lenovo' 'acer' 'Acer' 'ASUS' 'LG' 'Apple' 'Microsoft'\n",
            " 'SAMSUNG' 'Gigabyte' 'Toughbook' 'Alienware' 'XAMMUE' 'LENOVO' 'DELL'\n",
            " 'dell' 'lenovo' 'SHOXLAB' 'Razer' 'asus' 'Corsair' 'XPG' 'Panasonic'\n",
            " 'LPT' 'VAIO' 'hp' 'Latitude' 'Carlisle FoodService Products' 'Gateway'\n",
            " 'Quality Refurbished Computers' 'TOPOSH' 'IVIEW' 'MAINGEAR'\n",
            " 'Computer Upgrade King' 'Elo' 'GizPro' 'JTD' 'Mytrix' 'ONN' 'Goldengulf'\n",
            " 'Luqeeg' 'Tocosy' 'ROKC' 'Asus' 'AWOW' 'Best Notebooks' 'CTL' 'Mac'\n",
            " 'MICROTELLA' 'enovo'] \n",
            "\n",
            "model \n",
            " ['EliteBook 840' 'Inspiron 15 3530' 'Vostro 3510 Laptop' ... 'HPS13'\n",
            " 'DELL Latitude 5300' 'HP ProDesk 400 G3-SFF'] \n",
            "\n",
            "screen_size \n",
            " ['14 Inches' '15.6 Inches' '13.5 Inches' '16 Inches' '11.6 Inches'\n",
            " '15 Inches' '13 Inches' '13.4 Inches' '13.3 Inches' '17.3 Inches' nan\n",
            " '17 Inches' '15.3 Inches' '13.6 Inches' '13.9 Inches' '16.1 Inches'\n",
            " '13.1 Inches' '15.66 Inches' '15.4 Inches' '12 Inches' '16.2 Inches'\n",
            " '10.1 Inches' '27 Inches' '14.1 Inches' '18 Inches' '14.5 Inches'\n",
            " '22 Inches' '12.5 Inches' '12.45 Inches' '14.4 Inches' '10.5 Inches'\n",
            " '11 Inches' '12.2 Inches' '10 Inches' '12.3 Inches' '12.4 Inches'] \n",
            "\n",
            "harddisk \n",
            " ['256 GB' '2 TB' '1000 GB' '2000 GB' nan '512 GB' '128 GB' '4000 GB'\n",
            " '1 TB' '2048 GB' '16 GB' '1024 GB' '4 TB' '6000 GB' '3 TB' 512 '8000 GB'\n",
            " '1256 GB' 256 '320 GB' '160 GB' '32 GB' '64 GB' '120 GB' '500 GB' '8 TB'\n",
            " '64 MB' 64 '32 MB' '250 GB' '1.5 TB' '1512 GB' '128 MB' '65 GB' '8 GB'\n",
            " '1152 GB' '640 GB' '240 GB' '480 GB' '1.92 TB' '512 MB' '300 GB'] \n",
            "\n",
            "cpu \n",
            " ['Core i5 6200U' 'Core i7 Family' 'Core i7' 'Core i5' 'AMD Ryzen 7'\n",
            " 'Ryzen 5' 'Unknown' 'AMD R Series' 'Core i5 Family' 'Intel Core i5'\n",
            " 'Intel Core i5 1145G7' 'Intel Core i7' 'Intel Core i5-1135G7' nan\n",
            " 'Ryzen 5 4600H' 'Ryzen 7' 'Core i7-10700T' 'Core I7 12700H' 'Core i3'\n",
            " 'Ryzen 7 5800H' 'Intel Mobile CPU' 68000 'Apple M1'\n",
            " '1.2GHz Cortex A8 Processor' 'AMD Ryzen 5 5500U' 'Corei7-10750H'\n",
            " 'Intel Core i7-1165G7' 'Intel Core i7 1185G7' 8032 'Core i7 7500U'\n",
            " 'Core i5-1035G1' 'AMD Ryzen 7 5800H' 'Ryzen 7 2700U' 'Ryzen 9' 'Core i9'\n",
            " 'Core i9 7960X' 'Snapdragon' 'Intel Core i7 Extreme' 'Core i7-8650U'\n",
            " 'Core i5 7200U' 'Intel Core i9' 'Core I7 11800H' 'Intel Core Duo'\n",
            " 'Core i7 8750H' 'Intel Core i7 12800H' 'Core i7 8550U' 'AMD A Series'\n",
            " 'AMD Ryzen 9 5900X' 'Core i7-1065G7' 'Intel Core M-5Y10 Processor'\n",
            " 'A-Series Dual-Core A4-3300M' 'ARM 7100' 'Ryzen 7 4800H' 'Corei7-10875H'\n",
            " 'Core i5-3320M' 'Core i3-520M' 'MediaTek MT8183' 'Celeron'\n",
            " 'Celeron N4000' 'Core i5 5300U' 'Celeron N' 'Celeron N4020'\n",
            " 'Core i7-620M' 'Athlon' 'Intel Atom' 'Others' 'MediaTek_MT8127' 'Pentium'\n",
            " 'Celeron N3350' 'AMD A4' 'Core i7-12650H' 'Core i7-10510U'\n",
            " 'Ryzen 9 7900X' 'Intel Xeon' 'Celeron N3450' 'A10-7700K' 'Core i7-2620QM'\n",
            " 'Atom Z8350' 'Intel Celeron D' 'Pentium Other' 'Intel Core i3'\n",
            " 'Core i5-4210U' 'A-Series' 'Pentium N5000' 'Core i5-4200M'\n",
            " 'Ryzen 3 3250U' 'Core i3 Family' 'Core m3-8100Y' 'Core i5-2520M'\n",
            " 'Intel Core i5-4200U' 'Celeron P4500' 'Cortex' 'Ryzen 3' 'Core I3 1115G4'\n",
            " 'Apple M2' 'Core i7-13700K' 'Ryzen 3 3200U' 'MediaTek Helio P60T'\n",
            " 'Core i5 4310U' 'Ryzen 3 3350U' 'Core i5-5200U' 'Core i7-3720QM'\n",
            " 'Athlon Silver 3050U' 'Core i3-1005G1' 'Core i3-10110U'\n",
            " 'Intel Core 2 Quad' 'Apple M2 Max' 'Core i7-4700MQ' 'Core i3 8130U'\n",
            " 'Core i5-10210U' 'Core i5 8400T' 'Pentium N3540' 'Core i5-3317U'\n",
            " 'Core i3-1115G4E' 'Ryzen 3 4300U' 'Core i7 4600U' 'AMD Ryzen 3 2300X'\n",
            " 'Core i5-1130G7' 'Ryzen 7 4700U' 'Ryzen 5 4500U'\n",
            " 'AMD Kabini A6-5200M Quad Core' 'Ryzen 5 3500U' 'Celeron N2840'\n",
            " 'Core i5-655K' 'Ryzen 5 5500U' 'Core i5 4310M' 'Ryzen 3 1300X'\n",
            " 'Core i5 8250U' 'Intel Pentium 4' 'Core i5-10310Y'\n",
            " '1.2GHz Cortex A13 Processor' 'Intel Core i7-1355U' 'Ryzen 5 2600X'\n",
            " 'Intel Core i7-5850HQ' 'Core 2 Duo P8700' 'Core M Family' 'Core 2 Duo'\n",
            " 'Core i7 6600U' 'Celeron 3205U' 'Core i7 6700HQ' 'core_m'\n",
            " 'Core i5 2.3 GHz'] \n",
            "\n",
            "ram \n",
            " ['16 GB' '64 GB' '32 GB' '8 GB' nan '12 GB' '4 GB' '24 GB' '40 GB' '5 GB'\n",
            " '1 GB' '48 GB' '2 GB' '31.99 GB' '6 GB' '20 GB' '128 GB' '64 MB' '96 GB'] \n",
            "\n",
            "OS \n",
            " ['Windows 10 Pro' 'Windows 11 Home' 'Windows 10 Home' 'Windows 11 Pro'\n",
            " 'Windows 10' 'Windows 11' nan 'Mac OS' 'Windows 7' 'Chrome OS'\n",
            " 'Windows Pro' 'macOS 10.12 Sierra' 'Windows' 'macOS 12 Monterey'\n",
            " 'Windows 10 Home 64' 'Windows 10 Pro (English/French/Spanish)'\n",
            " 'Windows 10 Pro (64-Bit)' 'Win 10 Pro / Free upgrade to Win 11'\n",
            " 'Microsoft Windows 10 Professional (64bit)' 'No' 'Windows 7 Professional'\n",
            " 'Windows 10 S' 'Windows 10 S, Windows 10' 'Windows 8' 'Windows 11 S'\n",
            " 'Linux'\n",
            " 'Windows 10 Pro 64 Bit Multi-Language Support English/French/Spanish'\n",
            " 'Windows 10 Pro 64 Bit-Multi-Language Support English/French/Spanish.'\n",
            " 'Windows 10 Pro 64-Bit' 'Unknown' 'Windows 11 Home S'\n",
            " 'Windows 10 64 Bit-Multi-Language Supports English/Spanish/French'\n",
            " 'Windows 8.1'\n",
            " 'Win 10 Pro 64 Bit Multi-Language Support English/French/Spanish(Renewed)'\n",
            " 'Win 10 Pro 64 Bit Multi-Language Support English/French/Spanish'\n",
            " 'Windows 10 Pro 64-bit' 'Windows 11 Pro, Windows'\n",
            " 'Windows 10 Pro 64 Bit-Multi-Language Supports English/Spanish/French'\n",
            " 'Windows 11 Home in S Mode' 'Windows 10 Professional 64-bit' 'HP ThinPro'\n",
            " 'Windows 8 Pro' 'macOS 10.14 Mojave' 'PC' 'Win 11 Multi-Home'\n",
            " 'Win 10 Multi-language /Free upgrade to Win 11'\n",
            " 'Windows 10 DG Windows 7 Pro 64' 'Windows 7 Pro + 10 Pro'\n",
            " 'Mac OS X 10.0 Cheetah' 'Windows 7 Home Premium'] \n",
            "\n",
            "special_features \n",
            " ['Anti Glare Coating' nan 'Wifi & Bluetooth' 'Anti-glare,Thin Bezel'\n",
            " 'Anti-glare Screen' 'Backlit Keyboard' 'Anti-glare' 'Fingerprint Reader'\n",
            " 'HD Audio, Backlit Keyboard, Anti Glare Coating' 'Anti Glare'\n",
            " 'Information Not Available'\n",
            " 'HD Audio, Backlit Keyboard, Anti Glare Coating, Numeric Keypad'\n",
            " 'Fingerprint reader'\n",
            " 'Fingerprint Reader, HD Audio, Backlit Keyboard, Numeric Keypad'\n",
            " 'Fingerprint Reader, Backlit Keyboard, Memory Card Slot'\n",
            " 'Fingerprint Reader, HD Audio, Backlit Keyboard, Memory Card Slot'\n",
            " 'Fingerprint' 'Fingerprint Reader, HD Audio, Backlit Keyboard' 'Stylus'\n",
            " 'Fingerprint Reader, HD Audio, Backlit Keyboard, Anti Glare Coating, Memory Card Slot'\n",
            " 'Backlit Keyboard, Support Stylus' 'Security Slot'\n",
            " 'Anti-glare,Backlit Keyboard' 'Backlit Kb,Bezel,Fingerprint'\n",
            " 'Full Hd Anti-glare'\n",
            " 'HD Audio, Fingerprint Reader, Backlit Keyboard, Support Stylus'\n",
            " 'Thin Bezel'\n",
            " 'Fingerprint Reader, HD Audio, Backlit Keyboard, Support Stylus, Memory Card Slot'\n",
            " 'Spill-resistant'\n",
            " 'Fingerprint Reader, High Definition Audio, Backlit Keyboard, Anti Glare Coating'\n",
            " 'Backlit Kb,Fingerprint' 'Anti-glare,Backlit Kyb,Fingerprint Reader'\n",
            " 'Backlit Kb' 'HD Audio' 'Backlit Keyboard,Fingerprint'\n",
            " 'Backlit Keyboard,Fingerprint Reader' 'Nanoedge Bezel'\n",
            " 'Backlit Keyboard,Fingerprint Reader,Full Hd Anti-glare' 'Microphone'\n",
            " 'Support Stylus' 'Backlit Keyboard, Memory Card Slot'\n",
            " 'Fingerprint Reader, Backlit Keyboard'\n",
            " 'Fingerprint Reader, HD Audio, Backlit Keyboard, Memory Card Slot, Numeric Keypad'\n",
            " 'HD Audio, Memory Card Slot, Numeric Keypad'\n",
            " 'HD Audio, Backlit Keyboard, Numeric Keypad'\n",
            " 'Fingerprint Reader, HD Audio, Spill resistant, High Definition Audio, Anti Glare Coating'\n",
            " 'HD Audio, Backlit Keyboard'\n",
            " 'Fingerprint Reader, HD Audio, Anti Glare Coating, Memory Card Slot, Numeric Keypad'\n",
            " 'Anti-glare,Fingerprint Reader'\n",
            " 'Fingerprint Reader, Backlit Keyboard, Anti Glare Coating, Memory Card Slot, Numeric Keypad'\n",
            " 'TrackPoint' 'Lightweight' 'Dolby' 'Backlit Keyboard,Numeric Keypad'\n",
            " 'Bezel,Fingerprint Reader'\n",
            " 'HD Audio, Backlit Keyboard, Memory Card Slot, Numeric Keypad'\n",
            " 'Narrow Bezel' 'Pen'\n",
            " 'Fingerprint Reader, TrackPoint, Backlit Keyboard, Anti Glare Coating, Numeric Keypad'\n",
            " 'Multi-touch Gesture' 'Backlit Keyboard,Pen'\n",
            " 'InfinityEdge, Anti-glare Screen' 'Nanoedge'\n",
            " 'High Definition Audio, Backlit Keyboard, Anti Glare Coating, Memory Card Slot'\n",
            " 'Fingerprint Reader, TrackPoint, Backlit Keyboard, Anti Glare Coating, Memory Card Slot'\n",
            " 'Anti- Glare,Backlit Keyboard.tikbot'\n",
            " 'Fingerprint Reader, High Definition Audio, Backlit Keyboard, Anti Glare Coating, Memory Card Slot'\n",
            " 'Fingerprint Reader, Backlit Keyboard, Support Stylus, Memory Card Slot'\n",
            " 'Speakers' 'Anti-glare,Backlit Kb,Fingerprint Reader'\n",
            " 'Anti-glare,Nanoedge Bezel' 'Alexa'\n",
            " 'Corning Gorilla Glass 6, Anti-reflection, Anti-smudge'\n",
            " 'HD Audio, Backlit Keyboard, Anti Glare Coating, Memory Card Slot, Numeric Keypad'\n",
            " 'Fingerprint Reader, High Definition Audio, Backlit Keyboard, Memory Card Slot'\n",
            " 'Anti-glare,Fingerprint' 'premium business-class notebook'\n",
            " 'Anti-glare,Fingerprint Reader,Stereo Speakers' 'Ultra-slim Bezel'\n",
            " 'HD Audio, Backlit Keyboard, Memory Card Slot'\n",
            " 'Chiclet,Fingerprint Reader' 'Anti-glare Screen, Miracast Technology'\n",
            " 'Anti-glare Screen, Water Resistant'\n",
            " 'Anti-reflection, Anti-smudge, Anti-glare Screen'\n",
            " 'Fingerprint Reader, HD Audio, Backlit Keyboard, Anti Glare Coating'\n",
            " 'Backlit Kyb' 'Anti Glare,Thin Bezel'\n",
            " 'Anti-smudge, Corning Gorilla Glass' 'Anti Glare,Pen' 'Anti Gla'\n",
            " 'Nano-edge Bezel,Stylus Pen' 'Backlit Kb,Fingerprint Reader'\n",
            " 'High Definition Audio, Backlit Keyboard, Anti Glare Coating, Numeric Keypad'\n",
            " 'HD Audio, Backlit Keyboard, Anti Glare Coating, Memory Card Slot'\n",
            " 'Backlight Keyboard' 'Backlit Kb,Fingerprint,Pen'\n",
            " 'Fingerprint Reader, Backlit Keyboard, Anti Glare Coating, Numeric Keypad'\n",
            " 'Killer WiFi 6E AX1675 (2x2 ), Steel Series per-Key RGB with Anti-Ghost key (84 Key)'\n",
            " 'HD Audio, Anti-Ghost key, Backlit Keyboard, Memory Card Slot, Numeric Keypad'\n",
            " 'Fingerprint Reader, Spill resistant, High Definition Audio, Backlit Keyboard, Anti Glare Coating'\n",
            " 'Anti-glare,Backlit Keyboard/windows' 'Stereo Speakers' 'Backlit'\n",
            " 'Spill Resistant' 'Spill resistant' 'HD' 'Memory Card Slot'\n",
            " 'Anti-glare,Ultra-narrow Bezel' 'Micro-edge Bezel'\n",
            " 'Fingerprint Reader, HD Audio, Backlit Keyboard, Anti Glare Coating, Numeric Keypad'\n",
            " 'Anti Glare Coating,Backlit Keyboard, Fingerprint Reader'\n",
            " 'Anti-reflection, Anti-smudge'\n",
            " 'Fingerprint Reader, High Definition Audio, Anti Glare Coating'\n",
            " 'Fingerprint Reader, HD Audio, TrackPoint, Backlit Keyboard, Anti Glare Coating'\n",
            " 'Stylus Pen' 'Fingerprint,Pen' 'Anti-glare,Narrow Bezel'\n",
            " 'Corning Gorilla Glass 7, Miracast Technology' 'Rgb Backlit Keyboard'\n",
            " 'Anti-glare,Backlit Keyboard,Fingerprint Reader'\n",
            " 'Anti-reflection, Anti-smudge, Corning Gorilla Glass, Anti-glare Screen'\n",
            " 'High Definition Audio, Backlit Keyboard, Anti Glare Coating'\n",
            " 'Anti-glare,Backlit Kb' 'Fingerprint Reader, Backlit Keyboard, 32 GB RAM'\n",
            " 'light and compact design lets you stream, work, create, and play on a fast,'\n",
            " 'Anti-glare,Hd,Ultra-narrow Bezel' 'Bezels,Dolby,Stereo Speakers'\n",
            " 'Alcohol-Free' 'Thin-bezel' 'Numeric Keypad'\n",
            " 'Anti-glare,Narrow Bezel,Pen'\n",
            " 'Chiclet Keyboard, 1.5mm Key-travel , camera'\n",
            " 'Anti-glare,Stereo Speakers' 'Anti-Glare' 'High Quality'\n",
            " 'Dolby,Narrow Bezel' 'Memory Card Slot, Numeric Keypad' 'Narrow'\n",
            " 'Speakers: Stereo, Keyboard: Chiclet,' 'HD Audio, Memory Card Slot'\n",
            " 'Water Proof' 'Amazon Alexa' 'Portable' 'Anti-glare,Hd Audio'\n",
            " 'Waterproof, Ruggedized, Military Grade'\n",
            " 'Backlit Keyboard,Fingerprint,Nanoedge Bezel' 'Fingerprint Reader,Keypad'\n",
            " 'built for entertainment, multitasking & privacy'\n",
            " 'Anti-glare,Backlit Keyboard,Narrow Bezels' 'Keyboard'\n",
            " 'Intel UHD Graphics with shared graphics memory, Long life battery'\n",
            " 'Fingerprint Sensor,Nanoedge Bezel' 'Water Repellent' 'Active Stylus'\n",
            " 'HD Audio, Anti Glare Coating, Memory Card Slot, Numeric Keypad'\n",
            " 'Full,Nanoedge Bezel' 'Touchscreen Laptop, Windows Laptop, i5 Laptop'\n",
            " 'Anti glare' 'Dolby,Full Hd Anti-glare' 'Fingerprint Sensor'\n",
            " 'FHD Touch Screen' 'Dishwasher Safe'\n",
            " 'Anti Glare Coating, Memory Card Slot, Numeric Keypad'\n",
            " 'Backlit Keyboard,Spill-resistant' 'Stereo,Stereo/'\n",
            " 'Spill-resistant,Stereo' 'Space Saving'\n",
            " 'HD Audio, Anti Glare Coating, Numeric Keypad'\n",
            " 'HD Audio, Anti Glare Coating, Memory Card Slot' 'Anti-glare,Dolby'\n",
            " 'Backlit Keyboard,Fingerprint Reader,Stylus Pen'\n",
            " 'Fingerprint Power Button' '144Hz Refresh Rate, Backlit Keyboard'\n",
            " 'Multi Touch, Intel 9560 Jefferson Peak (2x2 802.11 ac), White backlight 84 Key'\n",
            " 'Touchscreen'\n",
            " 'Fingerprint Reader, HD Audio, Backlit Keyboard, Memory Card Slot, Anti Glare Coating'\n",
            " 'Anti Glare,Fingerprint' 'Anti-glare,Anti-glare Screen'\n",
            " 'Bezel,Fingerprint'\n",
            " 'High Definition Audio, Anti Glare Coating, Memory Card Slot'\n",
            " 'Fingerprint Reader,Pen' 'Stereo'\n",
            " 'Fingerprint Reader, High Definition Audio, Backlit Keyboard' 'Ergonomic'\n",
            " 'Backlit Keyboard,Stylus'\n",
            " 'Fingerprint Reader, HD Audio, Anti Glare Coating, Memory Card Slot'\n",
            " 'HD Audio, Fingerprint Reader, Backlit Keyboard, Anti Glare Coating, Memory Card Slot'\n",
            " 'Corning Gorilla Glass' 'Backlit Keyboard,Stylus Pen'] \n",
            "\n",
            "graphics \n",
            " ['Integrated' 'Iris Xe Graphics' 'Radeon Graphics' 'Nvidia GeForce MX250'\n",
            " 'Nvidia GeForce RTX A500' 'Dedicated' 'Integrated, Dedicated' nan\n",
            " 'UHD Graphics' 'RTX T600' 'T550' 'RTX 3060' 'Nvidia GeForce MX350'\n",
            " 'Nvidia GeForce RTX 3050' 'Nvidia GeForce RTX 3050 Ti'\n",
            " 'Nvidia GeForce RTX 2050' 'Iris X Graphics' 'RTX A3000' 'Intel XE'\n",
            " 'Iris Xe' 'Nvidia Quadro T550' 'Nvidia GeForce RTX 3060' 'Quadro T500'\n",
            " 'Nvidia GeForce RTX 4050' 'RTX A1000' 'Intel Iris Xáµ‰'\n",
            " 'Nvidia GeForce RTX 4060' 'Radeon 680M Graphics' 'RTX 4070' 'RTX 3050 Ti'\n",
            " 'Nvidia GeForce RTX 2070 Super' 'GT2 Graphics'\n",
            " 'GeForce RTX 3070 Ti,Iris Xe Graphics' 'NVIDIA RTX3070'\n",
            " 'AMD RADEON RX 540' 'RTX2050' 'RTX A500' 'Nvidia Quadro T2000'\n",
            " 'Shared, Integrated' 'RTX 3070 Ti' 'Nvidia GeForce RTX 3070 Ti'\n",
            " 'T500,Iris Xe Graphics' 'GeForce RTX 3080' 'NVIDIA GeForce RTX2060'\n",
            " 'RTX A2000' 'Nvidia GeForce MX550' 'Intel Arc A370M' 'Nvidia T1200'\n",
            " 'Nvidia RTX A3000' 'Nvidia Quadro RTX 3000' 'T1200' 'Nvidia RTX A2000'\n",
            " 'Nvidia GeForce RTX 2070' 'AMD Radeon RX 7600' 'GeForce RTX 3070'\n",
            " 'QN20-M1-R' 'RTX 4060' 'GeForce RTX 3050' 'Nvidia RTX A1000'\n",
            " 'Nvidia GeForce RTX 3070' 'Nvidia GeForce GTX 1650 Ti' 'RTX 2070 Super'\n",
            " 'UHD Graphics 610' 'HD Graphics, Integrated' 'shared' 'GeForce RTX 4050'\n",
            " 'T500,HD Graphics, Dedicated' 'Nvidia GeForce RTX 4070'\n",
            " 'GeForce GTX 1650' 'Radeon 680M' 'Nvidia RTX 2000 Ada'\n",
            " 'GeForce RTX 3050 Ti' 'Nvidia GeForce RTX 3080'\n",
            " 'Integrated intel IRIS Xe Plus GPU' 'RTX 3070Ti' 'GeForce GTX 1650 Ti'\n",
            " 'Nvidia GeForce RTX 4070, Dedicated' 'RTX 3080 Ti'\n",
            " 'Nvidia GeForce RTX 4080' 'RTX 4080' 'RTX 2060' 'Nvidia RTX 4000 Ada'\n",
            " 'Nvidia RTX A4000' 'Nvidia GeForce RTX 4090' 'UHD Graphics 600'\n",
            " 'RTX 3070' 'Nvidia RTX A5500' 'RTX A2000,UHD Graphics'\n",
            " 'Nvidia GeForce RTX 3080 Ti' 'Nvidia RTX A4500' 'GeForce RTX 3080 Ti'\n",
            " 'NVIDIAÂ® GeForce RTXâ„¢ 4060'\n",
            " 'Quadro RTX 4000 with Max-Q Design, 8GB GDDR6' 'RTX 3500 Ada'\n",
            " 'Intel UHD Graphics' 'NVIDIA RTX 2060' 'RTX A5000,UHD Graphics'\n",
            " 'Intel HD Graphics 5000, Integrated' 'Adreno 618' 'AMD Radeon Graphics'\n",
            " 'AMD Integrated Graphics' 'AMD Radeon'\n",
            " 'Integrated AMD Radeonâ„¢ Graphics' 'GeForce RTX 2050'\n",
            " 'Intel Iris, Integrated' 'Intel HD Graphics 620, Integrated' 'RTX 3050'\n",
            " 'Nvidia GeForce MX450' 'RTX 4050' 'NVIDIA GeForce GTX 1650 4GB'] \n",
            "\n",
            "graphics_coprocessor \n",
            " [nan 'Intel Iris Xe Graphics' 'Intel Integrated Graphics'\n",
            " 'AMD Radeon Graphics' 'Intel' 'Intel UHD Graphics'\n",
            " 'Integrated Iris Xe Graphics' 'NVIDIA GeForce RTX 3050'\n",
            " 'AMD Integrated Graphics' 'NVIDIA GeForce RTX 3050 Ti 4GB GDDR6'\n",
            " 'Intel UHD Graphics 620' 'NVIDIA GeForce RTX 3050 Ti'\n",
            " 'XPS9300-7909SLV-PUS' 'AMD Radeon 680M' 'Intel HD'\n",
            " 'NVIDIA GeForce RTX 4050' 'AMD Radeon Pro 560' 'NVIDIA GeForce RTX 3060'\n",
            " 'NVIDIA GeForce GTX 1050 Ti' 'NVIDIA Â® GeForce RTXâ„¢ 4050' 'Intel Iris'\n",
            " 'Intel HD Graphics 520' 'Intel HD Graphics'\n",
            " 'Intel Iris Xe Graphics eligible Integrated' 'NVIDIA Quadro T1000'\n",
            " 'NVIDIA GeForce GTX 1660' 'Intel HD Graphics 620'\n",
            " 'NVIDIA Â® GeForce RTXâ„¢ 2060' 'Quadro P1000' 'NVIDIA GeForce GTX 1050'\n",
            " 'Intel HD Graphics 6000' 'Nvidia RTX A1000' 'NVIDIA GeForce GTX 1060'\n",
            " 'UHD Graphics' 'AMD Radeon RX Vega 11' 'Intel Celeron'\n",
            " 'NVIDIA GeForce GTX 1650' 'AMD Radeon RTX 3070' 'Intel Iris Plus'\n",
            " 'NVIDIA GeForce RTX 4070' 'Intel HD Graphics 400'\n",
            " 'NVIDIA GeForce RTX 4060' 'AMD Radeon RX 540' 'Intel UHD Graphics 630'\n",
            " 'Radeon Pro WX Vega M GL' 'AMD Radeon 680M Graphics' 'Integrated'\n",
            " 'Apple Integrated Graphics' 'NVIDIA GeForce RTX 3070'\n",
            " 'NVIDIA GeForce RTX 2080 8GB GDDR6' 'Intel HD Graphics 615'\n",
            " 'NVIDIA Intel GeForce RTX 3070 Ti Iris Xe Graphics' 'intel'\n",
            " 'NVIDIA GeForce 940MX' 'NVIDIA GeForce GTX 1070 OC with 8GB GDDR5'\n",
            " 'Intel UHD 620 Graphics' 'NVIDIA GeForce GTX 1660Ti'\n",
            " 'NVIDIA GeForce MX130' 'NVIDIA RTX A500' 'integrated_graphics'\n",
            " 'NVIDIA GeForce RTX 3080 Ti' 'NVIDIA RTX A3000'\n",
            " 'NVIDIA Intel T500 Iris Xe Graphics' 'NVIDIA GeForce MX230'\n",
            " 'NVIDIA GeForce MX250' 'NVIDIA GeForce MX150' 'NVIDIA GeForce RTX 2070'\n",
            " 'AMD Radeon RX 6800M' 'NVIDIA GeForce RTX' 'NVIDIA Quadro T2000'\n",
            " 'NVIDIA GeForce RTX 3070 Ti' 'NVIDIA RTX A3000 16GB GDDR6'\n",
            " 'Intel Graphics Processor' 'NVIDIA GeForce RTX 3070 Ti 8GB GDDR6'\n",
            " 'IntelÂ® Iris Plus Graphics' 'Intel HD Graphics 630' 'NVIDIA'\n",
            " 'NVIDIA Quadro T1200' 'NVIDIA GeForce GTX 1650 Ti' 'NVIDIA T550'\n",
            " 'NVIDIA GeForce 3050' 'M1 Pro' 'AMD Radeon R5' 'NVIDIA RTX 3050TI'\n",
            " 'NVIDIA Quadro P1000' 'NVIDIA GeForce RTX 2060'\n",
            " 'NVIDIA RTX A4000 8GB GDDR6' 'NVIDIA GeForce RTX 2070 Max-Q'\n",
            " 'Mobile Intel 4 Series express' 'ATI Mobility Radeon 7500'\n",
            " 'Intel HD Graphics 3000' 'Intel HD Graphics 610' 'Intel UHD Graphics 600'\n",
            " 'Integrated IntelÂ® UHD 600 Graphics' 'Intel HD 5500' 'MediaTek'\n",
            " 'MediaTek Integrated' 'Intel UHD Graphics 605' 'Intel HD Graphics 500'\n",
            " 'AMD Radeon' 'NVIDIA GeForce GT 720M' 'Embedded' 'PowerVR GX6250'\n",
            " 'Intel HD Graphics 4400' 'NVIDIA GeForce RTX 3080'\n",
            " 'NVIDIA GeForce RTX 3050 Ti 6GB' 'NVIDIA RTX A3000 12GB GDDR6'\n",
            " 'NVIDIA GeForce RTX 4080' 'NVIDIA GeForce GTX 1060 OC'\n",
            " 'NVIDIA GeForce RTX A2000' 'NVIDIA RTX3050' 'NVIDIA GeForce GTX 1070'\n",
            " 'NVIDIA GeForce' 'GeForce RTX 2060' 'NVIDIA GeForcer A3000'\n",
            " 'NVIDIA GeForce RTX 3050 Ti Max-Q Graphics' 'NVIDIA RTX 2070'\n",
            " 'NVIDIA GeForce RTX 3080 Laptop GPU' 'Nvidia' 'Intel UPC'\n",
            " 'NVIDIA RTX A2000' 'NVIDIA RTX A1000' 'Intel UHD Graphics Premium'\n",
            " 'NVIDIA RTX 5000 16GB GDDR6' 'NVIDIA RTX A2000 w/4GB'\n",
            " 'NVIDIA Quadro P520' 'NVIDIA Quadro 3050 6GB GDDR6'\n",
            " 'NVIDIA RTX A4500 16GB GDDR6 (4DP)' 'RTX 3080'\n",
            " 'NVIDIA RTX 3000 6GB GDDR6' 'NVIDIA RTX A4500' 'UHD Graphics 600'\n",
            " 'Integrated Graphics' 'AMD Radeon Vega 3' 'GX6250' 'AMD Athlon Silver'\n",
            " 'Intel HD Integrated Graphics' 'Intel HD Grpahics 500'\n",
            " 'Intel HD Graphics 5000' 'intergrated' 'MediaTek Integrated Graphics'\n",
            " 'Mali-G72 MP3' 'AMD Athlon' 'AMD Radeon R4' 'Intel HD Graphics 4000'\n",
            " 'NVIDIA GeForce MX450' 'AMD Radeon Hd 8330' 'Intel HD Graphics 600'\n",
            " 'Integrated ARM Mali-G52 2EE MC2 GPU' 'Intel HD Graphics 5500'\n",
            " 'NVIDIA RTX A3000 6GB GDDR6' 'NVIDIA GeForce TRX 3070'\n",
            " 'NVIDIA Intel RTX A2000 UHD Graphics' 'NVIDIA Quadro T500 2GB'\n",
            " 'NVIDIA GeForce RTX A4500' 'NVIDIA RTX 2080 Super'\n",
            " 'NVIDIA GeForce RTX 2080 Super' 'NVIDIA GeForce RTX 4090'\n",
            " 'NVIDIA RTX A5500 16GB GDDR6' 'NVIDIA Â® RTXâ„¢ A4500, 16 GB GDDR6'\n",
            " 'NVIDIA GeForce RTX 2080' 'NVIDIA Â®' 'NVIDIA GeForce RTX 2080 Max-Q'\n",
            " 'NVIDIA Quadro RTX 4000 with Max-Q Design 8GB GDDR6'\n",
            " 'NVIDIA RTX 3500 Ada' 'AMD Radeon R7' 'integreted' 'INTEL'\n",
            " 'Intel HD Graphics;NVIDIA Optimus Graphics' 'Intel Graphics Integrated'\n",
            " 'AMD' 'Inter Core i7-8650U' 'NVIDIA Quadro RTX 3000'\n",
            " 'NVIDIA GeForce RTX 4000' 'NVIDIA RTX A3000, 12 GB DDR6'\n",
            " 'NVIDIA Intel RTX A5000 UHD Graphics' 'Intel HD 520 Graphics'\n",
            " 'Intel UHD Graphics 520' 'NVIDIA Quadro K1100M'\n",
            " 'Integrated AMD Radeon Graphics' 'Integrated Card' 'AMD Radeon 610M'\n",
            " 'AMD Radeon 7 Graphics' 'AMD Radeon Graphics 5500' 'AMD Radeon HD 8790M'\n",
            " 'Intel HD Graphics 4400 Integrated' 'AMD Radeon RX Vega 8'\n",
            " 'HD 620 Graphics' 'Intel 620U' 'AMD Radeon Graphics 5'\n",
            " '2GB NVIDIA GeForce MX230 Graphics' 'AMD Radeon Vega 8'\n",
            " 'NVIDIA Quadro RTX 5000' 'Integrated AMD Radeonâ„¢ Graphics'\n",
            " 'Intel HD Graphics 5300' 'Intel Iris X' 'AMD Radeon RX Vega 10'\n",
            " 'AMD Radeon Vega 9' 'Intel Iris Plus Graphics 640'\n",
            " 'NVIDIA GeForce RTX 2050' 'Integrated Intel Graphic'\n",
            " 'Intel HD Graphics 515' 'Integrated Intel Graphics'\n",
            " 'HD Integrated Graphics' 'Integrated Intel HD Graphics'\n",
            " 'Intel HD Graphics 530' 'NVIDIA T600' 'Dedicated' 'Intel HD 4000'\n",
            " 'NVIDIA GeForce GTX 965M'] \n",
            "\n",
            "cpu_speed \n",
            " [nan '3.6 GHz' '2.1 GHz' '4.4 GHz' '3 GHz' '1.7 GHz' '3.5 GHz' 1.9\n",
            " '3.1 GHz' '3.7 GHz' '2133 MHz' '4.2 GHz' '2.6 GHz' '2.2, 3.9 GHz'\n",
            " '1.8 GHz' '3.4 GHz' '4.7 GHz' 3.4 '1.9 GHz' '4.6 GHz' '2.2 GHz' '4.5 GHz'\n",
            " 4.7 '1.6 GHz' '3.2 GHz' '3200 Hz' '2.4 GHz' '2.5 GHz' 3.3 '5.2 GHz'\n",
            " '5 GHz' '3.49 GHz' '2.9 GHz' '3.8 GHz' '2.8 GHz' '4.8 GHz' '0.9 GHz'\n",
            " '5.6 GHz' '2.3 GHz' '2 GHz' '5.1 GHz' '1.3 GHz' '2.7 GHz' '2 Hz'\n",
            " '1.1 GHz' '2.66 GHz' '1 GHz' '1.2 GHz' '9120 GHz' '3.9 GHz' '1.4 GHz' 2.6\n",
            " '4 GHz' '4.1 GHz' '2.5, 3.1 GHz' 2.4 '4.3 GHz' 1.8 '3.3 GHz' '2.53 GHz'\n",
            " '1.5 GHz'] \n",
            "\n",
            "rating \n",
            " [4.  4.2 nan 3.  5.  3.6 4.1 3.9 4.6 3.8 2.5 1.  3.5 4.4 4.3 4.5 4.8 4.7\n",
            " 3.4 2.8 3.7 2.9 3.3 2.3 3.1 2.6 2.  3.2 2.7 4.9 2.2 2.1 1.7] \n",
            "\n",
            "price \n",
            " ['$1,000.00 ' '$1,000.99 ' '$1,001.11 ' ... '$999.95 ' '$999.99 ' nan] \n",
            "\n"
          ]
        }
      ]
    },
    {
      "cell_type": "code",
      "source": [
        "# making all entries lower case\n",
        "str_columns = ['brand','model','cpu', 'OS', 'special_features', 'graphics', 'graphics_coprocessor']\n",
        "# TODO automate to detect str_columns?\n",
        "\n",
        "for col in str_columns:\n",
        "  data[col] = data[col].str.strip()\n",
        "  data[col] = data[col].str.lower()"
      ],
      "metadata": {
        "id": "DM-ZsQ_sCbp0"
      },
      "execution_count": 50,
      "outputs": []
    },
    {
      "cell_type": "code",
      "source": [
        "print(data.columns.tolist())"
      ],
      "metadata": {
        "colab": {
          "base_uri": "https://localhost:8080/"
        },
        "id": "oklKAer7o1LP",
        "outputId": "a5bdabc9-bcb1-462a-c80b-1c324e6d57bd"
      },
      "execution_count": 51,
      "outputs": [
        {
          "output_type": "stream",
          "name": "stdout",
          "text": [
            "['brand', 'model', 'screen_size', 'harddisk', 'cpu', 'ram', 'OS', 'special_features', 'graphics', 'graphics_coprocessor', 'cpu_speed', 'rating', 'price']\n"
          ]
        }
      ]
    },
    {
      "cell_type": "code",
      "source": [
        "# divide data into catagorical and numerical\n",
        "cat_features = ['brand', 'model', 'cpu', 'OS', 'special_features', 'graphics', 'graphics_coprocessor']\n",
        "num_features = ['screen_size', 'harddisk', 'ram', 'cpu_Speed', 'rating', 'price']"
      ],
      "metadata": {
        "id": "hMmXLNQZmb8h"
      },
      "execution_count": 52,
      "outputs": []
    },
    {
      "cell_type": "code",
      "source": [
        "# sort outliers before this?\n",
        "# ensure all numerical data is actually numerical with consistent units\n",
        "data['screen_size'] = data['screen_size'].str.replace(' Inches', '')\n",
        "\n",
        "#data['harddisk'] = data['harddisk'].str.replace(' GB', '')\n",
        "\n",
        "data['price'] = data['price'].str.replace(',','')\n",
        "data['price'] = data['price'].str.replace('$','')\n",
        "\n",
        "# rename columns to have units\n",
        "temp = data.copy(deep=True)\n",
        "\n",
        "#for f in num_features:\n",
        "#  temp[f] = temp[f].astype(float)\n",
        "\n",
        "temp.rename(columns = {'price': \"price ($)\", \"screen_size\" : \"screen_size (inches)\"}, inplace = True) # TODO turn to True and delete temp\n",
        "\n",
        "print(temp.dtypes)\n",
        "temp"
      ],
      "metadata": {
        "colab": {
          "base_uri": "https://localhost:8080/",
          "height": 141
        },
        "id": "v6mIc117KduW",
        "outputId": "e48827cf-18dc-4c5c-f646-dde2e0cf9bf4"
      },
      "execution_count": 55,
      "outputs": [
        {
          "output_type": "error",
          "ename": "SyntaxError",
          "evalue": "ignored",
          "traceback": [
            "\u001b[0;36m  File \u001b[0;32m\"<ipython-input-55-727eb8be36b1>\"\u001b[0;36m, line \u001b[0;32m4\u001b[0m\n\u001b[0;31m    data['harddisk'] =\u001b[0m\n\u001b[0m                      ^\u001b[0m\n\u001b[0;31mSyntaxError\u001b[0m\u001b[0;31m:\u001b[0m invalid syntax\n"
          ]
        }
      ]
    },
    {
      "cell_type": "code",
      "source": [
        "data.describe()"
      ],
      "metadata": {
        "id": "bkG2eUh8qEUK"
      },
      "execution_count": null,
      "outputs": []
    },
    {
      "cell_type": "code",
      "source": [
        "'''\n",
        "# Duplicated data\n",
        "\n",
        "# How many rows are duplicates?\n",
        "n_dupes = 0\n",
        "for b in data.duplicated():\n",
        "  if b == True:\n",
        "    n_dupes += 1\n",
        "\n",
        "print(n_dupes, 'duplicate rows.\\n')\n",
        "#drop rows\n",
        "data.drop_duplicates(inplace=True) # make TRUE\n",
        "'''"
      ],
      "metadata": {
        "id": "g_nBfr9J-Ud_"
      },
      "execution_count": null,
      "outputs": []
    },
    {
      "cell_type": "code",
      "source": [],
      "metadata": {
        "id": "pd71tVtGKMWF"
      },
      "execution_count": null,
      "outputs": []
    }
  ]
}